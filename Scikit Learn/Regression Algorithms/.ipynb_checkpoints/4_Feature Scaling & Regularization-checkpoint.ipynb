{
 "cells": [
  {
   "cell_type": "code",
   "execution_count": 1,
   "id": "45747cb6",
   "metadata": {},
   "outputs": [],
   "source": [
    "# for data manipulation and visualization\n",
    "\n",
    "import numpy as np\n",
    "import pandas as pd\n",
    "import matplotlib.pyplot as plt\n",
    "import seaborn as sns"
   ]
  },
  {
   "cell_type": "markdown",
   "id": "e2eee228",
   "metadata": {},
   "source": [
    "# Import Dataset"
   ]
  },
  {
   "cell_type": "code",
   "execution_count": 2,
   "id": "46a13fe0",
   "metadata": {},
   "outputs": [],
   "source": [
    "# load the datased\n",
    "\n",
    "df = pd.read_csv(r\"D:\\ML\\Machine Learning_Practical\\Data\\Advertising.csv\")"
   ]
  },
  {
   "cell_type": "code",
   "execution_count": 3,
   "id": "3fd2365a",
   "metadata": {},
   "outputs": [
    {
     "data": {
      "text/html": [
       "<div>\n",
       "<style scoped>\n",
       "    .dataframe tbody tr th:only-of-type {\n",
       "        vertical-align: middle;\n",
       "    }\n",
       "\n",
       "    .dataframe tbody tr th {\n",
       "        vertical-align: top;\n",
       "    }\n",
       "\n",
       "    .dataframe thead th {\n",
       "        text-align: right;\n",
       "    }\n",
       "</style>\n",
       "<table border=\"1\" class=\"dataframe\">\n",
       "  <thead>\n",
       "    <tr style=\"text-align: right;\">\n",
       "      <th></th>\n",
       "      <th>TV</th>\n",
       "      <th>radio</th>\n",
       "      <th>newspaper</th>\n",
       "      <th>sales</th>\n",
       "    </tr>\n",
       "  </thead>\n",
       "  <tbody>\n",
       "    <tr>\n",
       "      <th>0</th>\n",
       "      <td>230.1</td>\n",
       "      <td>37.8</td>\n",
       "      <td>69.2</td>\n",
       "      <td>22.1</td>\n",
       "    </tr>\n",
       "    <tr>\n",
       "      <th>1</th>\n",
       "      <td>44.5</td>\n",
       "      <td>39.3</td>\n",
       "      <td>45.1</td>\n",
       "      <td>10.4</td>\n",
       "    </tr>\n",
       "    <tr>\n",
       "      <th>2</th>\n",
       "      <td>17.2</td>\n",
       "      <td>45.9</td>\n",
       "      <td>69.3</td>\n",
       "      <td>9.3</td>\n",
       "    </tr>\n",
       "    <tr>\n",
       "      <th>3</th>\n",
       "      <td>151.5</td>\n",
       "      <td>41.3</td>\n",
       "      <td>58.5</td>\n",
       "      <td>18.5</td>\n",
       "    </tr>\n",
       "    <tr>\n",
       "      <th>4</th>\n",
       "      <td>180.8</td>\n",
       "      <td>10.8</td>\n",
       "      <td>58.4</td>\n",
       "      <td>12.9</td>\n",
       "    </tr>\n",
       "  </tbody>\n",
       "</table>\n",
       "</div>"
      ],
      "text/plain": [
       "      TV  radio  newspaper  sales\n",
       "0  230.1   37.8       69.2   22.1\n",
       "1   44.5   39.3       45.1   10.4\n",
       "2   17.2   45.9       69.3    9.3\n",
       "3  151.5   41.3       58.5   18.5\n",
       "4  180.8   10.8       58.4   12.9"
      ]
     },
     "execution_count": 3,
     "metadata": {},
     "output_type": "execute_result"
    }
   ],
   "source": [
    "# top 5 rows of dataset\n",
    "df.head()"
   ]
  },
  {
   "cell_type": "code",
   "execution_count": 4,
   "id": "b3ae7789",
   "metadata": {},
   "outputs": [
    {
     "name": "stdout",
     "output_type": "stream",
     "text": [
      "Columns in dataset:\n",
      "Index(['TV', 'radio', 'newspaper', 'sales'], dtype='object')\n"
     ]
    }
   ],
   "source": [
    "print(f\"Columns in dataset:\\n{df.columns}\")"
   ]
  },
  {
   "cell_type": "markdown",
   "id": "e7bcff8e",
   "metadata": {},
   "source": [
    "Dataset stores following **information**:\n",
    "1. Expenditure on **`TV Advertisements`** (_Thousand \\$_)\n",
    "2. Expenditure on **`Radio Advertisements`** (_Thousand \\$_)\n",
    "3. Expenditure on **`Newspaper Advertisements`** (_Thousand \\$_)\n",
    "4. Total **`Sales`** (_Thousand \\$_)"
   ]
  },
  {
   "cell_type": "markdown",
   "id": "cf2ff6a8",
   "metadata": {},
   "source": [
    "# Data Pre-processing"
   ]
  },
  {
   "cell_type": "code",
   "execution_count": 5,
   "id": "5b869126",
   "metadata": {},
   "outputs": [],
   "source": [
    "# input features\n",
    "\n",
    "# all columns except \"sales\" will be inputs\n",
    "# drop col named \"sales\" along columns (axis=1)\n",
    "X = df.drop(\"sales\", axis=1)\n",
    "\n",
    "# target values\n",
    "\n",
    "# \"sales\" column will be target variable\n",
    "y = df[\"sales\"]"
   ]
  },
  {
   "cell_type": "markdown",
   "id": "b45fae22",
   "metadata": {},
   "source": [
    "## Feature Engineering- Generating Polynomial Features"
   ]
  },
  {
   "cell_type": "code",
   "execution_count": 6,
   "id": "c46e2eaa",
   "metadata": {},
   "outputs": [],
   "source": [
    "# for generating polynomial fearures\n",
    "\n",
    "from sklearn.preprocessing import PolynomialFeatures"
   ]
  },
  {
   "cell_type": "code",
   "execution_count": 8,
   "id": "081e30a1",
   "metadata": {},
   "outputs": [],
   "source": [
    "# create instance of PolynomicalFeatures class\n",
    "# degree=3 polynomial (previous evaluation found this adequate)\n",
    "# interaction_only=False -> Keeps degree 3 terms which are squares of single input features\n",
    "# hence will retain both feature1 * feature2 (interaction terms) term\n",
    "# aswell as feature1**2 (square terms) term (and so on)\n",
    "\n",
    "poly_generator = PolynomialFeatures(degree=3, interaction_only=False,\n",
    "                                   include_bias=False)"
   ]
  },
  {
   "cell_type": "code",
   "execution_count": 10,
   "id": "766c1297",
   "metadata": {},
   "outputs": [],
   "source": [
    "# fit polynomial features to dataset & transform (generating polynomial features)\n",
    "\n",
    "poly_features = poly_generator.fit_transform(X)"
   ]
  },
  {
   "cell_type": "code",
   "execution_count": 12,
   "id": "dfff3b9b",
   "metadata": {},
   "outputs": [
    {
     "name": "stdout",
     "output_type": "stream",
     "text": [
      "Shape of Original dataset = (200, 3)\n",
      "Shape of dataset after feature engineering = (200, 19)\n"
     ]
    }
   ],
   "source": [
    "print(f\"Shape of Original dataset = {X.shape}\\nShape of dataset after feature engineering = {poly_features.shape}\")"
   ]
  },
  {
   "cell_type": "markdown",
   "id": "a191649f",
   "metadata": {},
   "source": [
    "## Training set & Test set\n",
    "\n",
    "Preparing the dataset with polynomial features for training and testing."
   ]
  },
  {
   "cell_type": "code",
   "execution_count": 13,
   "id": "f3f39180",
   "metadata": {},
   "outputs": [],
   "source": [
    "# for splitting (shuffle split) dataset into training & test set\n",
    "from sklearn.model_selection import train_test_split"
   ]
  },
  {
   "cell_type": "code",
   "execution_count": 14,
   "id": "aa35f65d",
   "metadata": {},
   "outputs": [],
   "source": [
    "# Training set = 70% data; Test set = 30% data\n",
    "# NOTE: random_state=0 (same as in Linear Regression model training) will allow comparing performance\n",
    "X_train, X_test, y_train, y_test = train_test_split(poly_features, y,\n",
    "                                                    test_size=0.3,\n",
    "                                                    random_state=0)"
   ]
  },
  {
   "cell_type": "code",
   "execution_count": 15,
   "id": "c13a1657",
   "metadata": {},
   "outputs": [
    {
     "name": "stdout",
     "output_type": "stream",
     "text": [
      "Shape of Training set = (140, 19)\n",
      "SHape of Test set = (60, 19)\n"
     ]
    }
   ],
   "source": [
    "print(f\"Shape of Training set = {X_train.shape}\\nSHape of Test set = {X_test.shape}\")"
   ]
  },
  {
   "cell_type": "markdown",
   "id": "eed35067",
   "metadata": {},
   "source": [
    "## Scaling the data"
   ]
  },
  {
   "cell_type": "code",
   "execution_count": 17,
   "id": "9810489d",
   "metadata": {},
   "outputs": [],
   "source": [
    "# tool for feature scaling\n",
    "\n",
    "from sklearn.preprocessing import StandardScaler"
   ]
  },
  {
   "cell_type": "code",
   "execution_count": 18,
   "id": "da870626",
   "metadata": {},
   "outputs": [],
   "source": [
    "# create scaling object\n",
    "\n",
    "scaler = StandardScaler()"
   ]
  },
  {
   "cell_type": "markdown",
   "id": "8b641be3",
   "metadata": {},
   "source": [
    "### NOTE- Fitting the Training set only\n",
    ">ML model **should NOT have any prior knowledge** of the Test set.\\\n",
    "Otherwise it may lead to _**data leakage**_ and defeat the purpose of having a separate set of data for testing the model's performance.\\\n",
    "**Test set** should be \"_pristine_\" - contain **previously unseen data**."
   ]
  },
  {
   "cell_type": "code",
   "execution_count": 19,
   "id": "3521cbdd",
   "metadata": {},
   "outputs": [
    {
     "data": {
      "text/html": [
       "<style>#sk-container-id-1 {color: black;}#sk-container-id-1 pre{padding: 0;}#sk-container-id-1 div.sk-toggleable {background-color: white;}#sk-container-id-1 label.sk-toggleable__label {cursor: pointer;display: block;width: 100%;margin-bottom: 0;padding: 0.3em;box-sizing: border-box;text-align: center;}#sk-container-id-1 label.sk-toggleable__label-arrow:before {content: \"▸\";float: left;margin-right: 0.25em;color: #696969;}#sk-container-id-1 label.sk-toggleable__label-arrow:hover:before {color: black;}#sk-container-id-1 div.sk-estimator:hover label.sk-toggleable__label-arrow:before {color: black;}#sk-container-id-1 div.sk-toggleable__content {max-height: 0;max-width: 0;overflow: hidden;text-align: left;background-color: #f0f8ff;}#sk-container-id-1 div.sk-toggleable__content pre {margin: 0.2em;color: black;border-radius: 0.25em;background-color: #f0f8ff;}#sk-container-id-1 input.sk-toggleable__control:checked~div.sk-toggleable__content {max-height: 200px;max-width: 100%;overflow: auto;}#sk-container-id-1 input.sk-toggleable__control:checked~label.sk-toggleable__label-arrow:before {content: \"▾\";}#sk-container-id-1 div.sk-estimator input.sk-toggleable__control:checked~label.sk-toggleable__label {background-color: #d4ebff;}#sk-container-id-1 div.sk-label input.sk-toggleable__control:checked~label.sk-toggleable__label {background-color: #d4ebff;}#sk-container-id-1 input.sk-hidden--visually {border: 0;clip: rect(1px 1px 1px 1px);clip: rect(1px, 1px, 1px, 1px);height: 1px;margin: -1px;overflow: hidden;padding: 0;position: absolute;width: 1px;}#sk-container-id-1 div.sk-estimator {font-family: monospace;background-color: #f0f8ff;border: 1px dotted black;border-radius: 0.25em;box-sizing: border-box;margin-bottom: 0.5em;}#sk-container-id-1 div.sk-estimator:hover {background-color: #d4ebff;}#sk-container-id-1 div.sk-parallel-item::after {content: \"\";width: 100%;border-bottom: 1px solid gray;flex-grow: 1;}#sk-container-id-1 div.sk-label:hover label.sk-toggleable__label {background-color: #d4ebff;}#sk-container-id-1 div.sk-serial::before {content: \"\";position: absolute;border-left: 1px solid gray;box-sizing: border-box;top: 0;bottom: 0;left: 50%;z-index: 0;}#sk-container-id-1 div.sk-serial {display: flex;flex-direction: column;align-items: center;background-color: white;padding-right: 0.2em;padding-left: 0.2em;position: relative;}#sk-container-id-1 div.sk-item {position: relative;z-index: 1;}#sk-container-id-1 div.sk-parallel {display: flex;align-items: stretch;justify-content: center;background-color: white;position: relative;}#sk-container-id-1 div.sk-item::before, #sk-container-id-1 div.sk-parallel-item::before {content: \"\";position: absolute;border-left: 1px solid gray;box-sizing: border-box;top: 0;bottom: 0;left: 50%;z-index: -1;}#sk-container-id-1 div.sk-parallel-item {display: flex;flex-direction: column;z-index: 1;position: relative;background-color: white;}#sk-container-id-1 div.sk-parallel-item:first-child::after {align-self: flex-end;width: 50%;}#sk-container-id-1 div.sk-parallel-item:last-child::after {align-self: flex-start;width: 50%;}#sk-container-id-1 div.sk-parallel-item:only-child::after {width: 0;}#sk-container-id-1 div.sk-dashed-wrapped {border: 1px dashed gray;margin: 0 0.4em 0.5em 0.4em;box-sizing: border-box;padding-bottom: 0.4em;background-color: white;}#sk-container-id-1 div.sk-label label {font-family: monospace;font-weight: bold;display: inline-block;line-height: 1.2em;}#sk-container-id-1 div.sk-label-container {text-align: center;}#sk-container-id-1 div.sk-container {/* jupyter's `normalize.less` sets `[hidden] { display: none; }` but bootstrap.min.css set `[hidden] { display: none !important; }` so we also need the `!important` here to be able to override the default hidden behavior on the sphinx rendered scikit-learn.org. See: https://github.com/scikit-learn/scikit-learn/issues/21755 */display: inline-block !important;position: relative;}#sk-container-id-1 div.sk-text-repr-fallback {display: none;}</style><div id=\"sk-container-id-1\" class=\"sk-top-container\"><div class=\"sk-text-repr-fallback\"><pre>StandardScaler()</pre><b>In a Jupyter environment, please rerun this cell to show the HTML representation or trust the notebook. <br />On GitHub, the HTML representation is unable to render, please try loading this page with nbviewer.org.</b></div><div class=\"sk-container\" hidden><div class=\"sk-item\"><div class=\"sk-estimator sk-toggleable\"><input class=\"sk-toggleable__control sk-hidden--visually\" id=\"sk-estimator-id-1\" type=\"checkbox\" checked><label for=\"sk-estimator-id-1\" class=\"sk-toggleable__label sk-toggleable__label-arrow\">StandardScaler</label><div class=\"sk-toggleable__content\"><pre>StandardScaler()</pre></div></div></div></div></div>"
      ],
      "text/plain": [
       "StandardScaler()"
      ]
     },
     "execution_count": 19,
     "metadata": {},
     "output_type": "execute_result"
    }
   ],
   "source": [
    "# fit Training set to learn its mean & standard deviation\n",
    "\n",
    "scaler.fit(X_train)"
   ]
  },
  {
   "cell_type": "code",
   "execution_count": 20,
   "id": "83819689",
   "metadata": {},
   "outputs": [],
   "source": [
    "# use the info. learnt from Training set to transform (scale)\n",
    "# BOTH the Training set & Test set\n",
    "\n",
    "X_train_scaled = scaler.transform(X_train)\n",
    "X_test_scaled = scaler.transform(X_test)"
   ]
  },
  {
   "cell_type": "code",
   "execution_count": 29,
   "id": "573cdadd",
   "metadata": {},
   "outputs": [
    {
     "name": "stdout",
     "output_type": "stream",
     "text": [
      "First example of Unscaled dataset:\n",
      "\n",
      "[2.30100000e+02 3.78000000e+01 6.92000000e+01 5.29460100e+04\n",
      " 8.69778000e+03 1.59229200e+04 1.42884000e+03 2.61576000e+03\n",
      " 4.78864000e+03 1.21828769e+07 2.00135918e+06 3.66386389e+06\n",
      " 3.28776084e+05 6.01886376e+05 1.10186606e+06 5.40101520e+04\n",
      " 9.88757280e+04 1.81010592e+05 3.31373888e+05]\n",
      "\n",
      "First example of Scaled dataset:\n",
      "\n",
      "[ 1.32803962 -1.33989652  0.65846895  1.56382898 -0.84570478  1.35097672\n",
      " -1.02908386 -0.7550139   0.34686732  1.68225046 -0.61505213  1.58817357\n",
      " -0.79530882 -0.51164709  0.70967286 -0.84628773 -0.72733341 -0.5473259\n",
      "  0.0788874 ]\n"
     ]
    }
   ],
   "source": [
    "# compare unscaled & scaled dataset\n",
    "\n",
    "print(f\"First example of Unscaled dataset:\\n\\n{poly_features[0]}\")\n",
    "print(f\"\\nFirst example of Scaled dataset:\\n\\n{X_train_scaled[0]}\")"
   ]
  },
  {
   "cell_type": "markdown",
   "id": "f38119a8",
   "metadata": {},
   "source": [
    "# Relurarization- L2 Regularisation (_Ridge Regression_)\n",
    "\n",
    "#### NOTE\n",
    "1. Sklearn calls **`λ`** (**Regularization parameter**) as **_alpha_**.\n",
    "---\n",
    "2. For **choosing best `λ`** using **Corss Validation (CV) set** will use a **`scorer object`** of Sklearn module\n",
    "    - Scorer object works with philosophy **_higher is better_**. Hence instead of minimizing usual error formula (RMSE + Regularization) it will **<ins>maximize</ins> negative of usual error formula**."
   ]
  },
  {
   "cell_type": "code",
   "execution_count": 30,
   "id": "ab4666c0",
   "metadata": {},
   "outputs": [],
   "source": [
    "# for performing L2 Regularization\n",
    "\n",
    "from sklearn.linear_model import Ridge"
   ]
  },
  {
   "cell_type": "code",
   "execution_count": 31,
   "id": "b6c18614",
   "metadata": {},
   "outputs": [],
   "source": [
    "# create a ridge object\n",
    "# alpha = regularization parameter = 10\n",
    "\n",
    "ridge_model = Ridge(alpha=10)"
   ]
  },
  {
   "cell_type": "code",
   "execution_count": 32,
   "id": "03284b14",
   "metadata": {},
   "outputs": [
    {
     "data": {
      "text/html": [
       "<style>#sk-container-id-2 {color: black;}#sk-container-id-2 pre{padding: 0;}#sk-container-id-2 div.sk-toggleable {background-color: white;}#sk-container-id-2 label.sk-toggleable__label {cursor: pointer;display: block;width: 100%;margin-bottom: 0;padding: 0.3em;box-sizing: border-box;text-align: center;}#sk-container-id-2 label.sk-toggleable__label-arrow:before {content: \"▸\";float: left;margin-right: 0.25em;color: #696969;}#sk-container-id-2 label.sk-toggleable__label-arrow:hover:before {color: black;}#sk-container-id-2 div.sk-estimator:hover label.sk-toggleable__label-arrow:before {color: black;}#sk-container-id-2 div.sk-toggleable__content {max-height: 0;max-width: 0;overflow: hidden;text-align: left;background-color: #f0f8ff;}#sk-container-id-2 div.sk-toggleable__content pre {margin: 0.2em;color: black;border-radius: 0.25em;background-color: #f0f8ff;}#sk-container-id-2 input.sk-toggleable__control:checked~div.sk-toggleable__content {max-height: 200px;max-width: 100%;overflow: auto;}#sk-container-id-2 input.sk-toggleable__control:checked~label.sk-toggleable__label-arrow:before {content: \"▾\";}#sk-container-id-2 div.sk-estimator input.sk-toggleable__control:checked~label.sk-toggleable__label {background-color: #d4ebff;}#sk-container-id-2 div.sk-label input.sk-toggleable__control:checked~label.sk-toggleable__label {background-color: #d4ebff;}#sk-container-id-2 input.sk-hidden--visually {border: 0;clip: rect(1px 1px 1px 1px);clip: rect(1px, 1px, 1px, 1px);height: 1px;margin: -1px;overflow: hidden;padding: 0;position: absolute;width: 1px;}#sk-container-id-2 div.sk-estimator {font-family: monospace;background-color: #f0f8ff;border: 1px dotted black;border-radius: 0.25em;box-sizing: border-box;margin-bottom: 0.5em;}#sk-container-id-2 div.sk-estimator:hover {background-color: #d4ebff;}#sk-container-id-2 div.sk-parallel-item::after {content: \"\";width: 100%;border-bottom: 1px solid gray;flex-grow: 1;}#sk-container-id-2 div.sk-label:hover label.sk-toggleable__label {background-color: #d4ebff;}#sk-container-id-2 div.sk-serial::before {content: \"\";position: absolute;border-left: 1px solid gray;box-sizing: border-box;top: 0;bottom: 0;left: 50%;z-index: 0;}#sk-container-id-2 div.sk-serial {display: flex;flex-direction: column;align-items: center;background-color: white;padding-right: 0.2em;padding-left: 0.2em;position: relative;}#sk-container-id-2 div.sk-item {position: relative;z-index: 1;}#sk-container-id-2 div.sk-parallel {display: flex;align-items: stretch;justify-content: center;background-color: white;position: relative;}#sk-container-id-2 div.sk-item::before, #sk-container-id-2 div.sk-parallel-item::before {content: \"\";position: absolute;border-left: 1px solid gray;box-sizing: border-box;top: 0;bottom: 0;left: 50%;z-index: -1;}#sk-container-id-2 div.sk-parallel-item {display: flex;flex-direction: column;z-index: 1;position: relative;background-color: white;}#sk-container-id-2 div.sk-parallel-item:first-child::after {align-self: flex-end;width: 50%;}#sk-container-id-2 div.sk-parallel-item:last-child::after {align-self: flex-start;width: 50%;}#sk-container-id-2 div.sk-parallel-item:only-child::after {width: 0;}#sk-container-id-2 div.sk-dashed-wrapped {border: 1px dashed gray;margin: 0 0.4em 0.5em 0.4em;box-sizing: border-box;padding-bottom: 0.4em;background-color: white;}#sk-container-id-2 div.sk-label label {font-family: monospace;font-weight: bold;display: inline-block;line-height: 1.2em;}#sk-container-id-2 div.sk-label-container {text-align: center;}#sk-container-id-2 div.sk-container {/* jupyter's `normalize.less` sets `[hidden] { display: none; }` but bootstrap.min.css set `[hidden] { display: none !important; }` so we also need the `!important` here to be able to override the default hidden behavior on the sphinx rendered scikit-learn.org. See: https://github.com/scikit-learn/scikit-learn/issues/21755 */display: inline-block !important;position: relative;}#sk-container-id-2 div.sk-text-repr-fallback {display: none;}</style><div id=\"sk-container-id-2\" class=\"sk-top-container\"><div class=\"sk-text-repr-fallback\"><pre>Ridge(alpha=10)</pre><b>In a Jupyter environment, please rerun this cell to show the HTML representation or trust the notebook. <br />On GitHub, the HTML representation is unable to render, please try loading this page with nbviewer.org.</b></div><div class=\"sk-container\" hidden><div class=\"sk-item\"><div class=\"sk-estimator sk-toggleable\"><input class=\"sk-toggleable__control sk-hidden--visually\" id=\"sk-estimator-id-2\" type=\"checkbox\" checked><label for=\"sk-estimator-id-2\" class=\"sk-toggleable__label sk-toggleable__label-arrow\">Ridge</label><div class=\"sk-toggleable__content\"><pre>Ridge(alpha=10)</pre></div></div></div></div></div>"
      ],
      "text/plain": [
       "Ridge(alpha=10)"
      ]
     },
     "execution_count": 32,
     "metadata": {},
     "output_type": "execute_result"
    }
   ],
   "source": [
    "# fit ridge model to Training set\n",
    "\n",
    "ridge_model.fit(X_train_scaled, y_train)"
   ]
  },
  {
   "cell_type": "code",
   "execution_count": 33,
   "id": "d0588181",
   "metadata": {},
   "outputs": [],
   "source": [
    "# make predictions with ridge model\n",
    "\n",
    "test_predictions = ridge_model.predict(X_test_scaled)"
   ]
  },
  {
   "cell_type": "markdown",
   "id": "cdde0381",
   "metadata": {},
   "source": [
    "### Evaluate Permofance with Regularized model (_`λ`_ = 10)"
   ]
  },
  {
   "cell_type": "code",
   "execution_count": 34,
   "id": "c4d8d14e",
   "metadata": {},
   "outputs": [],
   "source": [
    "# for evaluation\n",
    "\n",
    "from sklearn.metrics import mean_squared_error, mean_absolute_error"
   ]
  },
  {
   "cell_type": "code",
   "execution_count": 35,
   "id": "9578c612",
   "metadata": {},
   "outputs": [],
   "source": [
    "# mean absolute error\n",
    "\n",
    "mae = mean_absolute_error(y_test, test_predictions)"
   ]
  },
  {
   "cell_type": "code",
   "execution_count": 54,
   "id": "fa473924",
   "metadata": {},
   "outputs": [
    {
     "name": "stdout",
     "output_type": "stream",
     "text": [
      "Mean Absolute Error = 0.6768\n"
     ]
    }
   ],
   "source": [
    "print(f\"Mean Absolute Error = {np.round(mae, decimals=4)}\")"
   ]
  },
  {
   "cell_type": "code",
   "execution_count": 37,
   "id": "ed8d11bc",
   "metadata": {},
   "outputs": [],
   "source": [
    "# root mean squared error\n",
    "\n",
    "rmse = np.sqrt(mean_squared_error(y_test, test_predictions))"
   ]
  },
  {
   "cell_type": "code",
   "execution_count": 38,
   "id": "6e523528",
   "metadata": {},
   "outputs": [
    {
     "name": "stdout",
     "output_type": "stream",
     "text": [
      "Root Mean Squared Error = 1.1792\n"
     ]
    }
   ],
   "source": [
    "print(f\"Root Mean Squared Error = {np.round(rmse, decimals=4)}\")"
   ]
  },
  {
   "cell_type": "markdown",
   "id": "5b98614d",
   "metadata": {},
   "source": [
    "## Selecting Best `λ` using Scikit Learn\n",
    "\n",
    "Using **K-fold Cross Validation** for selecting best **`λ`**.\n",
    ">**cv** parameter in scorer object refers to CV splitting (_value of K_)\\\n",
    "By **default** it is **`None`**. (_if dataset is large then having a cv value slows down the process since that would require multiple iterations_)\n",
    "---\n",
    ">When using **Ridge CV** since K-fold CV is being performed, technically it keeps a small chunk of Training set separately as the **CV set**.\n",
    "---\n",
    ">Can look at available scorer metrics and choose one while creating ridge CV model object\n",
    "\n",
    "```python\n",
    "from sklearn.metrics import SCORERS\n",
    "\n",
    "# list of all available metrics (keys) in the SCORER dict\n",
    "SCORERS.keys() \n",
    "```"
   ]
  },
  {
   "cell_type": "code",
   "execution_count": 39,
   "id": "6053d8ab",
   "metadata": {},
   "outputs": [],
   "source": [
    "# for selecting best `λ`\n",
    "\n",
    "from sklearn.linear_model import RidgeCV"
   ]
  },
  {
   "cell_type": "code",
   "execution_count": 44,
   "id": "f51ca510",
   "metadata": {},
   "outputs": [],
   "source": [
    "# create ridge cv model\n",
    "# testing `λ` = 0.1, 1.0, 10.0 (default)\n",
    "# scorer metric = negative of usual error term (MAE + Regularization)\n",
    "ridge_cv_model = RidgeCV(alphas=(0.1, 1.0, 10.0),\n",
    "                        scoring=\"neg_mean_absolute_error\")"
   ]
  },
  {
   "cell_type": "code",
   "execution_count": 45,
   "id": "32042512",
   "metadata": {},
   "outputs": [
    {
     "data": {
      "text/html": [
       "<style>#sk-container-id-4 {color: black;}#sk-container-id-4 pre{padding: 0;}#sk-container-id-4 div.sk-toggleable {background-color: white;}#sk-container-id-4 label.sk-toggleable__label {cursor: pointer;display: block;width: 100%;margin-bottom: 0;padding: 0.3em;box-sizing: border-box;text-align: center;}#sk-container-id-4 label.sk-toggleable__label-arrow:before {content: \"▸\";float: left;margin-right: 0.25em;color: #696969;}#sk-container-id-4 label.sk-toggleable__label-arrow:hover:before {color: black;}#sk-container-id-4 div.sk-estimator:hover label.sk-toggleable__label-arrow:before {color: black;}#sk-container-id-4 div.sk-toggleable__content {max-height: 0;max-width: 0;overflow: hidden;text-align: left;background-color: #f0f8ff;}#sk-container-id-4 div.sk-toggleable__content pre {margin: 0.2em;color: black;border-radius: 0.25em;background-color: #f0f8ff;}#sk-container-id-4 input.sk-toggleable__control:checked~div.sk-toggleable__content {max-height: 200px;max-width: 100%;overflow: auto;}#sk-container-id-4 input.sk-toggleable__control:checked~label.sk-toggleable__label-arrow:before {content: \"▾\";}#sk-container-id-4 div.sk-estimator input.sk-toggleable__control:checked~label.sk-toggleable__label {background-color: #d4ebff;}#sk-container-id-4 div.sk-label input.sk-toggleable__control:checked~label.sk-toggleable__label {background-color: #d4ebff;}#sk-container-id-4 input.sk-hidden--visually {border: 0;clip: rect(1px 1px 1px 1px);clip: rect(1px, 1px, 1px, 1px);height: 1px;margin: -1px;overflow: hidden;padding: 0;position: absolute;width: 1px;}#sk-container-id-4 div.sk-estimator {font-family: monospace;background-color: #f0f8ff;border: 1px dotted black;border-radius: 0.25em;box-sizing: border-box;margin-bottom: 0.5em;}#sk-container-id-4 div.sk-estimator:hover {background-color: #d4ebff;}#sk-container-id-4 div.sk-parallel-item::after {content: \"\";width: 100%;border-bottom: 1px solid gray;flex-grow: 1;}#sk-container-id-4 div.sk-label:hover label.sk-toggleable__label {background-color: #d4ebff;}#sk-container-id-4 div.sk-serial::before {content: \"\";position: absolute;border-left: 1px solid gray;box-sizing: border-box;top: 0;bottom: 0;left: 50%;z-index: 0;}#sk-container-id-4 div.sk-serial {display: flex;flex-direction: column;align-items: center;background-color: white;padding-right: 0.2em;padding-left: 0.2em;position: relative;}#sk-container-id-4 div.sk-item {position: relative;z-index: 1;}#sk-container-id-4 div.sk-parallel {display: flex;align-items: stretch;justify-content: center;background-color: white;position: relative;}#sk-container-id-4 div.sk-item::before, #sk-container-id-4 div.sk-parallel-item::before {content: \"\";position: absolute;border-left: 1px solid gray;box-sizing: border-box;top: 0;bottom: 0;left: 50%;z-index: -1;}#sk-container-id-4 div.sk-parallel-item {display: flex;flex-direction: column;z-index: 1;position: relative;background-color: white;}#sk-container-id-4 div.sk-parallel-item:first-child::after {align-self: flex-end;width: 50%;}#sk-container-id-4 div.sk-parallel-item:last-child::after {align-self: flex-start;width: 50%;}#sk-container-id-4 div.sk-parallel-item:only-child::after {width: 0;}#sk-container-id-4 div.sk-dashed-wrapped {border: 1px dashed gray;margin: 0 0.4em 0.5em 0.4em;box-sizing: border-box;padding-bottom: 0.4em;background-color: white;}#sk-container-id-4 div.sk-label label {font-family: monospace;font-weight: bold;display: inline-block;line-height: 1.2em;}#sk-container-id-4 div.sk-label-container {text-align: center;}#sk-container-id-4 div.sk-container {/* jupyter's `normalize.less` sets `[hidden] { display: none; }` but bootstrap.min.css set `[hidden] { display: none !important; }` so we also need the `!important` here to be able to override the default hidden behavior on the sphinx rendered scikit-learn.org. See: https://github.com/scikit-learn/scikit-learn/issues/21755 */display: inline-block !important;position: relative;}#sk-container-id-4 div.sk-text-repr-fallback {display: none;}</style><div id=\"sk-container-id-4\" class=\"sk-top-container\"><div class=\"sk-text-repr-fallback\"><pre>RidgeCV(scoring=&#x27;neg_mean_absolute_error&#x27;)</pre><b>In a Jupyter environment, please rerun this cell to show the HTML representation or trust the notebook. <br />On GitHub, the HTML representation is unable to render, please try loading this page with nbviewer.org.</b></div><div class=\"sk-container\" hidden><div class=\"sk-item\"><div class=\"sk-estimator sk-toggleable\"><input class=\"sk-toggleable__control sk-hidden--visually\" id=\"sk-estimator-id-4\" type=\"checkbox\" checked><label for=\"sk-estimator-id-4\" class=\"sk-toggleable__label sk-toggleable__label-arrow\">RidgeCV</label><div class=\"sk-toggleable__content\"><pre>RidgeCV(scoring=&#x27;neg_mean_absolute_error&#x27;)</pre></div></div></div></div></div>"
      ],
      "text/plain": [
       "RidgeCV(scoring='neg_mean_absolute_error')"
      ]
     },
     "execution_count": 45,
     "metadata": {},
     "output_type": "execute_result"
    }
   ],
   "source": [
    "# fit ridge_cv_model only on X_train_scaled dataset\n",
    "# actually this will keep a portion of X_train_scaled as the CV set\n",
    "ridge_cv_model.fit(X_train_scaled, y_train)"
   ]
  },
  {
   "cell_type": "code",
   "execution_count": 47,
   "id": "76c27d38",
   "metadata": {},
   "outputs": [],
   "source": [
    "# retrieve the alpha (`λ`) that performed best\n",
    "\n",
    "alpha_best = ridge_cv_model.alpha_"
   ]
  },
  {
   "cell_type": "code",
   "execution_count": 49,
   "id": "250614c6",
   "metadata": {},
   "outputs": [
    {
     "name": "stdout",
     "output_type": "stream",
     "text": [
      "Best perfroming Regularization term value (`λ`) = 0.1\n"
     ]
    }
   ],
   "source": [
    "print(f\"Best perfroming Regularization term value (`λ`) = {alpha_best}\")"
   ]
  },
  {
   "cell_type": "markdown",
   "id": "f12404fa",
   "metadata": {},
   "source": [
    "## Use Ridge CV Model with Best `λ` to make Predictions"
   ]
  },
  {
   "cell_type": "code",
   "execution_count": 50,
   "id": "49dfa565",
   "metadata": {},
   "outputs": [],
   "source": [
    "# test predictions with best `λ` model\n",
    "\n",
    "test_predictions_best = ridge_cv_model.predict(X_test_scaled)"
   ]
  },
  {
   "cell_type": "code",
   "execution_count": 51,
   "id": "28a443ef",
   "metadata": {},
   "outputs": [],
   "source": [
    "# evaluate performance\n",
    "\n",
    "mae_best = mean_absolute_error(y_test, test_predictions_best)\n",
    "\n",
    "rmse = rmse = np.sqrt(mean_squared_error(y_test, test_predictions_best))"
   ]
  },
  {
   "cell_type": "code",
   "execution_count": 53,
   "id": "9cfc5480",
   "metadata": {},
   "outputs": [
    {
     "name": "stdout",
     "output_type": "stream",
     "text": [
      "Performance with `λ` = 0.1\n",
      "\n",
      "Mean Absolute Error = 0.454\n",
      "Root Mean Squared Error = 0.8005\n"
     ]
    }
   ],
   "source": [
    "print(f\"Performance with `λ` = {alpha_best}\\n\")\n",
    "\n",
    "print(f\"Mean Absolute Error = {np.round(mae_best, decimals=4)}\")\n",
    "print(f\"Root Mean Squared Error = {np.round(rmse, decimals=4)}\")"
   ]
  },
  {
   "cell_type": "code",
   "execution_count": 56,
   "id": "d278aca1",
   "metadata": {},
   "outputs": [
    {
     "data": {
      "text/html": [
       "<div>\n",
       "<style scoped>\n",
       "    .dataframe tbody tr th:only-of-type {\n",
       "        vertical-align: middle;\n",
       "    }\n",
       "\n",
       "    .dataframe tbody tr th {\n",
       "        vertical-align: top;\n",
       "    }\n",
       "\n",
       "    .dataframe thead th {\n",
       "        text-align: right;\n",
       "    }\n",
       "</style>\n",
       "<table border=\"1\" class=\"dataframe\">\n",
       "  <thead>\n",
       "    <tr style=\"text-align: right;\">\n",
       "      <th></th>\n",
       "      <th>MAE</th>\n",
       "      <th>RMSE</th>\n",
       "    </tr>\n",
       "  </thead>\n",
       "  <tbody>\n",
       "    <tr>\n",
       "      <th>λ=10</th>\n",
       "      <td>0.6768</td>\n",
       "      <td>1.1792</td>\n",
       "    </tr>\n",
       "    <tr>\n",
       "      <th>λ=0.1</th>\n",
       "      <td>0.4540</td>\n",
       "      <td>0.8005</td>\n",
       "    </tr>\n",
       "  </tbody>\n",
       "</table>\n",
       "</div>"
      ],
      "text/plain": [
       "          MAE    RMSE\n",
       "λ=10   0.6768  1.1792\n",
       "λ=0.1  0.4540  0.8005"
      ]
     },
     "execution_count": 56,
     "metadata": {},
     "output_type": "execute_result"
    }
   ],
   "source": [
    "# create dataframe with pre and post CV alphas\n",
    "\n",
    "rows = [\"λ=10\", \"λ=0.1\"]\n",
    "cols = [\"MAE\", \"RMSE\"]\n",
    "data = np.array([\n",
    "    [0.6768, 1.1792],\n",
    "    [0.454, 0.8005]\n",
    "])\n",
    "\n",
    "df_error = pd.DataFrame(data, index=rows, columns=cols)\n",
    "\n",
    "df_error"
   ]
  },
  {
   "cell_type": "code",
   "execution_count": 59,
   "id": "173a6172",
   "metadata": {},
   "outputs": [
    {
     "data": {
      "image/png": "[encoded data removed]",
      "text/plain": [
       "<Figure size 1000x750 with 1 Axes>"
      ]
     },
     "metadata": {},
     "output_type": "display_data"
    }
   ],
   "source": [
    "# visualize errors with different regularization term values\n",
    "\n",
    "fig, ax = plt.subplots(figsize=(4,3), dpi=250)\n",
    "colors = [\"#C72527\", \"#99C53D\"]\n",
    "\n",
    "df_error.transpose().plot(kind=\"bar\", ax=ax, color=colors)\n",
    "ax.set_ylabel(\"Prediction Error (Thousand USD)\")\n",
    "fig.suptitle(\"Comparing Error metrics for\\ndifferent Regularization terms (λ)\")\n",
    "fig.tight_layout();"
   ]
  },
  {
   "cell_type": "code",
   "execution_count": 60,
   "id": "3c565c0f",
   "metadata": {},
   "outputs": [
    {
     "name": "stdout",
     "output_type": "stream",
     "text": [
      "Coefficients of Trained Model with Ridge CV regularization:\n",
      " [ 5.48955031  0.37473617  0.38099195 -5.69295049  3.70585369 -0.57584019\n",
      "  0.2761326  -0.33800138  0.06559943  1.9661539   0.00622609  0.05577628\n",
      " -0.33000583  0.37445126 -0.01643013  0.21365624 -0.13967071  0.07783408\n",
      "  0.02489831]\n"
     ]
    }
   ],
   "source": [
    "# coefficients for Ridge CV model\n",
    "\n",
    "print(\"Coefficients of Trained Model with Ridge CV regularization:\\n\",\n",
    "     ridge_cv_model.coef_)"
   ]
  }
 ],
 "metadata": {
  "kernelspec": {
   "display_name": "Python 3 (ipykernel)",
   "language": "python",
   "name": "python3"
  },
  "language_info": {
   "codemirror_mode": {
    "name": "ipython",
    "version": 3
   },
   "file_extension": ".py",
   "mimetype": "text/x-python",
   "name": "python",
   "nbconvert_exporter": "python",
   "pygments_lexer": "ipython3",
   "version": "3.11.0"
  }
 },
 "nbformat": 4,
 "nbformat_minor": 5
}
