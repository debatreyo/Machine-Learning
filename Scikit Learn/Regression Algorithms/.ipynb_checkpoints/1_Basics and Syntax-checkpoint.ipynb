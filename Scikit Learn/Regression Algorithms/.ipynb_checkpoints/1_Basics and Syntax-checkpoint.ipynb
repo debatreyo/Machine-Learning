{
 "cells": [
  {
   "cell_type": "markdown",
   "id": "9cf1873e",
   "metadata": {},
   "source": [
    "# Sklearn"
   ]
  },
  {
   "cell_type": "markdown",
   "id": "8cdc54a9",
   "metadata": {},
   "source": [
    "1. Contains **ML algorithms**.\n",
    "---\n",
    "2. Calls ML models as **Estimator**.\n",
    "    - 'Estimates' i.e. Predicts some value (`y_hat = target value`)\n",
    "---\n",
    "3. Method for **importing**, **fitting**, **using** algorithms are **uniform across all ML algorithms**.\n",
    "    - easy to swap algorithms and try out different one on same problem\n",
    "---\n",
    "4. Contains other useful tools\n",
    "    - Data **pre-processing** (_train-test split, feature scaling, ..._)\n",
    "    - Prediction **accuracy testing**"
   ]
  },
  {
   "cell_type": "markdown",
   "id": "594880d0",
   "metadata": {},
   "source": [
    "## General workflow & Philosophy\n",
    "\n",
    ">**Pre-process** data -> **Apply model** (_fit on data on training set_) ->\\\n",
    "Make **predictions** -> **Evaluate performance** of model (_on test set_)"
   ]
  },
  {
   "cell_type": "markdown",
   "id": "6b23f07c",
   "metadata": {},
   "source": [
    "## Syntax: Data Pre-Processing"
   ]
  },
  {
   "cell_type": "markdown",
   "id": "a9debfd0",
   "metadata": {},
   "source": [
    "### Train-Test Splitting of data\n",
    "\n",
    "```python\n",
    "from sklearn.model_selection import train_test_split\n",
    "\n",
    "X_train, X_test, y_train, y_train = train_test_split(X, y)\n",
    "```"
   ]
  },
  {
   "cell_type": "markdown",
   "id": "1806fb17",
   "metadata": {},
   "source": [
    "## Syntax: Model selection, Fitting, Predicting, Evaluating"
   ]
  },
  {
   "cell_type": "markdown",
   "id": "6bf3a5a7",
   "metadata": {},
   "source": [
    "### Model selection -> Data Fitting -> Prediction\n",
    "\n",
    "```python\n",
    "\n",
    "# import ML model\n",
    "from sklearn.(name of required model family) import (name of Model)\n",
    "\n",
    "# create instance of the imported ML model\n",
    "myModel = ModelAlgo(parameters, ...) # ModelAlgo = (name of Model)\n",
    "\n",
    "# fit ML model on training set\n",
    "myModel.fit(X_train, y_train)\n",
    "\n",
    "# make predictions (estimate)\n",
    "predictions = myModel.predict(X_test)\n",
    "```\n",
    "\n",
    "### Model evaluation\n",
    "\n",
    "```python\n",
    "\n",
    "from sklearn.metric import (name of error metric)\n",
    "\n",
    "# evaluate performance after training\n",
    "# error_metric = (name of error metric)\n",
    "performance = error_metric(y_test, predictions)\n",
    "```"
   ]
  },
  {
   "cell_type": "code",
   "execution_count": null,
   "id": "0684855a",
   "metadata": {},
   "outputs": [],
   "source": []
  }
 ],
 "metadata": {
  "kernelspec": {
   "display_name": "Python 3 (ipykernel)",
   "language": "python",
   "name": "python3"
  },
  "language_info": {
   "codemirror_mode": {
    "name": "ipython",
    "version": 3
   },
   "file_extension": ".py",
   "mimetype": "text/x-python",
   "name": "python",
   "nbconvert_exporter": "python",
   "pygments_lexer": "ipython3",
   "version": "3.11.0"
  }
 },
 "nbformat": 4,
 "nbformat_minor": 5
}
